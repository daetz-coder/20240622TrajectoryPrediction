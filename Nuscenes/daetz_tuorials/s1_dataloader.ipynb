{
 "cells": [
  {
   "cell_type": "code",
   "execution_count": 2,
   "id": "87c724a6-88a8-433c-a181-56f390749883",
   "metadata": {},
   "outputs": [],
   "source": [
    "#!mkdir -p /data/sets/nuscenes  # Make the directory to store the nuScenes dataset in."
   ]
  },
  {
   "cell_type": "code",
   "execution_count": 1,
   "id": "828fdd70-2961-49c0-afff-36ea2e1062c3",
   "metadata": {},
   "outputs": [
    {
     "name": "stdout",
     "output_type": "stream",
     "text": [
      "Directory '/root/autodl-tmp/TrajectoryPrediction/1_Nuscenes/data/sets/nuscenes' created successfully.\n",
      "Directory exists.\n",
      "Directory created using shell command.\n",
      "total 8\n",
      "drwxr-xr-x 4 root root   87 6月  22 09:54 .\n",
      "drwxr-xr-x 4 root root   62 6月  22 09:49 ..\n",
      "drwxr-xr-x 3 root root   26 6月  22 09:54 data\n",
      "drwxr-xr-x 2 root root   52 6月  22 09:50 .ipynb_checkpoints\n",
      "-rw-r--r-- 1 root root 4696 6月  22 09:54 s1_dataloader.ipynb\n"
     ]
    }
   ],
   "source": [
    "import os\n",
    "\n",
    "# Define the directory path\n",
    "current_directory = os.getcwd()  # Get the current working directory\n",
    "directory_path = os.path.join(current_directory, \"data/sets/nuscenes\")\n",
    "\n",
    "# Function to create directory and handle exceptions\n",
    "def create_directory(path):\n",
    "    try:\n",
    "        os.makedirs(path, exist_ok=True)\n",
    "        print(f\"Directory '{path}' created successfully.\")\n",
    "    except PermissionError:\n",
    "        print(f\"Permission denied: Cannot create directory '{path}'.\")\n",
    "    except Exception as e:\n",
    "        print(f\"An error occurred: {e}\")\n",
    "\n",
    "# Create the directory\n",
    "create_directory(directory_path)\n",
    "\n",
    "# Check if the directory was created\n",
    "if os.path.exists(directory_path):\n",
    "    print(\"Directory exists.\")\n",
    "else:\n",
    "    print(\"Failed to create directory.\")\n",
    "\n",
    "# If using Jupyter Notebook, you can also run the shell command with error handling\n",
    "try:\n",
    "    !mkdir -p ./data/sets/nuscenes\n",
    "    print(\"Directory created using shell command.\")\n",
    "except Exception as e:\n",
    "    print(f\"An error occurred while running the shell command: {e}\")\n",
    "\n",
    "# List the contents of the current directory to verify\n",
    "!ls -la\n"
   ]
  },
  {
   "cell_type": "code",
   "execution_count": 3,
   "id": "96b2e51c-8e6e-4821-a5f5-e71d23eba28a",
   "metadata": {},
   "outputs": [],
   "source": [
    "# !wget https://www.nuscenes.org/data/v1.0-mini.tgz  # Download the nuScenes mini split.\n",
    "# autodl-pub中携带了相关数据，路径在autodl-pub/nuScenes/Fulldatasetv1.0/Mini/v1.0-mini.tgz"
   ]
  },
  {
   "cell_type": "code",
   "execution_count": 4,
   "id": "c7cf9ce6-5228-460e-9e3f-159107e5bbb9",
   "metadata": {},
   "outputs": [],
   "source": [
    "#!tar -xf v1.0-mini.tgz -C /data/sets/nuscenes  # Uncompress the nuScenes mini split."
   ]
  },
  {
   "cell_type": "code",
   "execution_count": 8,
   "id": "8d3add77-5311-4e1d-ae78-e702bb2789d1",
   "metadata": {
    "tags": []
   },
   "outputs": [
    {
     "name": "stdout",
     "output_type": "stream",
     "text": [
      "Extracted '/root/autodl-tmp/TrajectoryPrediction/1_Nuscenes/v1.0-mini.tgz' to '/root/autodl-tmp/TrajectoryPrediction/1_Nuscenes/data/sets/nuscenes' successfully.\n",
      "Extraction completed. Listing top-level contents:\n",
      "maps\n",
      "v1.0-mini\n",
      "samples\n",
      "sweeps\n",
      ".v1.0-mini.txt\n",
      "LICENSE\n"
     ]
    }
   ],
   "source": [
    "import tarfile\n",
    "import os\n",
    "\n",
    "# Define the paths\n",
    "current_directory = os.getcwd()  # Get the current working directory\n",
    "tar_file_path = os.path.join(current_directory, 'v1.0-mini.tgz')  # Ensure the tar file path is absolute\n",
    "extract_path = os.path.join(current_directory, 'data/sets/nuscenes')  # Ensure the extract path is absolute\n",
    "\n",
    "# Function to extract tar file\n",
    "def extract_tar_file(tar_path, extract_to):\n",
    "    try:\n",
    "        with tarfile.open(tar_path, 'r:gz') as tar:\n",
    "            tar.extractall(path=extract_to)\n",
    "            print(f\"Extracted '{tar_path}' to '{extract_to}' successfully.\")\n",
    "    except FileNotFoundError:\n",
    "        print(f\"The file '{tar_path}' was not found.\")\n",
    "    except PermissionError:\n",
    "        print(f\"Permission denied: Cannot extract '{tar_path}' to '{extract_to}'.\")\n",
    "    except Exception as e:\n",
    "        print(f\"An error occurred: {e}\")\n",
    "\n",
    "# Extract the tar file\n",
    "extract_tar_file(tar_file_path, extract_path)\n",
    "\n",
    "# Verify extraction by listing the top-level contents of the target directory\n",
    "if os.path.exists(extract_path):\n",
    "    print(\"Extraction completed. Listing top-level contents:\")\n",
    "    top_level_contents = os.listdir(extract_path)\n",
    "    for item in top_level_contents:\n",
    "        print(item)\n",
    "else:\n",
    "    print(\"Failed to extract the tar file.\")\n"
   ]
  },
  {
   "cell_type": "code",
   "execution_count": 9,
   "id": "2d1b9097-3eb4-42d0-aeaa-ed3eaa6ee0fd",
   "metadata": {},
   "outputs": [],
   "source": [
    "# !pip install nuscenes-devkit &> /dev/null  # Install nuScenes.\n",
    "# 这段代码会静默地安装nuscenes-devkit库，不会在控制台或Notebook单元格中显示任何输出或错误信息。"
   ]
  },
  {
   "cell_type": "code",
   "execution_count": 10,
   "id": "1529c468-d4de-40d5-bf55-3c48d1677603",
   "metadata": {
    "scrolled": true,
    "tags": []
   },
   "outputs": [
    {
     "name": "stdout",
     "output_type": "stream",
     "text": [
      "Looking in indexes: http://mirrors.aliyun.com/pypi/simple\n",
      "Collecting nuscenes-devkit\n",
      "  Downloading http://mirrors.aliyun.com/pypi/packages/b0/06/9029f796dcf7854f0681f11ae81fe42542fb15e02830f6b4239749f59739/nuscenes_devkit-1.1.11-py3-none-any.whl (313 kB)\n",
      "\u001b[K     |████████████████████████████████| 313 kB 101 kB/s eta 0:00:01\n",
      "\u001b[?25hCollecting opencv-python>=4.5.4.58\n",
      "  Downloading http://mirrors.aliyun.com/pypi/packages/3f/a4/d2537f47fd7fcfba966bd806e3ec18e7ee1681056d4b0a9c8d983983e4d5/opencv_python-4.10.0.84-cp37-abi3-manylinux_2_17_x86_64.manylinux2014_x86_64.whl (62.5 MB)\n",
      "\u001b[K     |████████████████████████████████| 62.5 MB 153 kB/s eta 0:00:01\n",
      "\u001b[?25hRequirement already satisfied: tqdm in /root/miniconda3/lib/python3.8/site-packages (from nuscenes-devkit) (4.61.2)\n",
      "Collecting descartes\n",
      "  Downloading http://mirrors.aliyun.com/pypi/packages/e5/b6/1ed2eb03989ae574584664985367ba70cd9cf8b32ee8cad0e8aaeac819f3/descartes-1.1.0-py3-none-any.whl (5.8 kB)\n",
      "Requirement already satisfied: Pillow>6.2.1 in /root/miniconda3/lib/python3.8/site-packages (from nuscenes-devkit) (8.4.0)\n",
      "Collecting pyquaternion>=0.9.5\n",
      "  Downloading http://mirrors.aliyun.com/pypi/packages/49/b3/d8482e8cacc8ea15a356efea13d22ce1c5914a9ee36622ba250523240bf2/pyquaternion-0.9.9-py3-none-any.whl (14 kB)\n",
      "Requirement already satisfied: scikit-learn in /root/miniconda3/lib/python3.8/site-packages (from nuscenes-devkit) (0.24.2)\n",
      "Requirement already satisfied: scipy in /root/miniconda3/lib/python3.8/site-packages (from nuscenes-devkit) (1.10.1)\n",
      "Collecting fire\n",
      "  Downloading http://mirrors.aliyun.com/pypi/packages/1b/1b/84c63f592ecdfbb3d77d22a8d93c9b92791e4fa35677ad71a7d6449100f8/fire-0.6.0.tar.gz (88 kB)\n",
      "\u001b[K     |████████████████████████████████| 88 kB 130 kB/s eta 0:00:01\n",
      "\u001b[?25hRequirement already satisfied: matplotlib<3.6.0 in /root/miniconda3/lib/python3.8/site-packages (from nuscenes-devkit) (3.5.0)\n",
      "Requirement already satisfied: numpy>=1.22.0 in /root/miniconda3/lib/python3.8/site-packages (from nuscenes-devkit) (1.24.3)\n",
      "Collecting Shapely<2.0.0\n",
      "  Downloading http://mirrors.aliyun.com/pypi/packages/17/70/c11106764bf0fdc50191136bdc970ec962bd0bb657070a12779e71e28fea/Shapely-1.8.5.post1-cp38-cp38-manylinux_2_12_x86_64.manylinux2010_x86_64.whl (2.1 MB)\n",
      "\u001b[K     |████████████████████████████████| 2.1 MB 145 kB/s eta 0:00:01\n",
      "\u001b[?25hRequirement already satisfied: cachetools in /root/miniconda3/lib/python3.8/site-packages (from nuscenes-devkit) (4.2.4)\n",
      "Collecting pycocotools>=2.0.1\n",
      "  Downloading http://mirrors.aliyun.com/pypi/packages/6c/11/6cb76ebc71388ac17691bc3da76276d1642af30bf9097de9bb5f64c92cfa/pycocotools-2.0.7-cp38-cp38-manylinux_2_17_x86_64.manylinux2014_x86_64.whl (439 kB)\n",
      "\u001b[K     |████████████████████████████████| 439 kB 134 kB/s eta 0:00:01\n",
      "\u001b[?25hRequirement already satisfied: packaging>=20.0 in /root/miniconda3/lib/python3.8/site-packages (from matplotlib<3.6.0->nuscenes-devkit) (21.3)\n",
      "Requirement already satisfied: cycler>=0.10 in /root/miniconda3/lib/python3.8/site-packages (from matplotlib<3.6.0->nuscenes-devkit) (0.11.0)\n",
      "Requirement already satisfied: fonttools>=4.22.0 in /root/miniconda3/lib/python3.8/site-packages (from matplotlib<3.6.0->nuscenes-devkit) (4.28.2)\n",
      "Requirement already satisfied: setuptools-scm>=4 in /root/miniconda3/lib/python3.8/site-packages (from matplotlib<3.6.0->nuscenes-devkit) (6.3.2)\n",
      "Requirement already satisfied: python-dateutil>=2.7 in /root/miniconda3/lib/python3.8/site-packages (from matplotlib<3.6.0->nuscenes-devkit) (2.8.2)\n",
      "Requirement already satisfied: kiwisolver>=1.0.1 in /root/miniconda3/lib/python3.8/site-packages (from matplotlib<3.6.0->nuscenes-devkit) (1.3.2)\n",
      "Requirement already satisfied: pyparsing>=2.2.1 in /root/miniconda3/lib/python3.8/site-packages (from matplotlib<3.6.0->nuscenes-devkit) (3.0.6)\n",
      "Requirement already satisfied: six>=1.5 in /root/miniconda3/lib/python3.8/site-packages (from python-dateutil>=2.7->matplotlib<3.6.0->nuscenes-devkit) (1.16.0)\n",
      "Requirement already satisfied: tomli>=1.0.0 in /root/miniconda3/lib/python3.8/site-packages (from setuptools-scm>=4->matplotlib<3.6.0->nuscenes-devkit) (1.2.2)\n",
      "Requirement already satisfied: setuptools in /root/miniconda3/lib/python3.8/site-packages (from setuptools-scm>=4->matplotlib<3.6.0->nuscenes-devkit) (52.0.0.post20210125)\n",
      "Requirement already satisfied: termcolor in /root/miniconda3/lib/python3.8/site-packages (from fire->nuscenes-devkit) (2.4.0)\n",
      "Requirement already satisfied: joblib>=0.11 in /root/miniconda3/lib/python3.8/site-packages (from scikit-learn->nuscenes-devkit) (1.3.2)\n",
      "Requirement already satisfied: threadpoolctl>=2.0.0 in /root/miniconda3/lib/python3.8/site-packages (from scikit-learn->nuscenes-devkit) (3.2.0)\n",
      "Building wheels for collected packages: fire\n",
      "  Building wheel for fire (setup.py) ... \u001b[?25ldone\n",
      "\u001b[?25h  Created wheel for fire: filename=fire-0.6.0-py2.py3-none-any.whl size=117031 sha256=f941b45d4a5d279be3f4d85440d16aecccf35329b592edb95ef82a642ee726bf\n",
      "  Stored in directory: /root/.cache/pip/wheels/a4/b9/73/627aa65da75f3558d5ea86fa5519f2790aeb51f3596361347b\n",
      "Successfully built fire\n",
      "Installing collected packages: Shapely, pyquaternion, pycocotools, opencv-python, fire, descartes, nuscenes-devkit\n",
      "Successfully installed Shapely-1.8.5.post1 descartes-1.1.0 fire-0.6.0 nuscenes-devkit-1.1.11 opencv-python-4.10.0.84 pycocotools-2.0.7 pyquaternion-0.9.9\n",
      "\u001b[33mWARNING: Running pip as the 'root' user can result in broken permissions and conflicting behaviour with the system package manager. It is recommended to use a virtual environment instead: https://pip.pypa.io/warnings/venv\u001b[0m\n"
     ]
    }
   ],
   "source": [
    "!pip install nuscenes-devkit"
   ]
  },
  {
   "cell_type": "code",
   "execution_count": null,
   "id": "70b8f406-b02e-4da4-82e1-074c8b042be6",
   "metadata": {},
   "outputs": [],
   "source": []
  }
 ],
 "metadata": {
  "kernelspec": {
   "display_name": "Python 3 (ipykernel)",
   "language": "python",
   "name": "python3"
  },
  "language_info": {
   "codemirror_mode": {
    "name": "ipython",
    "version": 3
   },
   "file_extension": ".py",
   "mimetype": "text/x-python",
   "name": "python",
   "nbconvert_exporter": "python",
   "pygments_lexer": "ipython3",
   "version": "3.8.10"
  }
 },
 "nbformat": 4,
 "nbformat_minor": 5
}
